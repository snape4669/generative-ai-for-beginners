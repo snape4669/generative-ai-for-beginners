{
 "cells": [
  {
   "cell_type": "code",
   "execution_count": 1,
   "metadata": {},
   "outputs": [
    {
     "name": "stdout",
     "output_type": "stream",
     "text": [
      "在原有代码中，返回的字符串中的`name`变量没有被正确地使用，它应该被嵌入到字符串中以显示传递的名字。此外，可以通过使用`app.run()`的参数来提高开发时的效率，例如开启调试模式。以下是改进后的代码：\n",
      "\n",
      "```python\n",
      "from flask import Flask, request\n",
      "\n",
      "app = Flask(__name__)\n",
      "\n",
      "@app.route('/')\n",
      "def hello():\n",
      "    name = request.args.get('name', 'World')\n",
      "    return f'Hello, {name}!'  # 正确使用变量name\n",
      "\n",
      "if __name__ == '__main__':\n",
      "    app.run(debug=True)  # 开启调试模式，方便开发时自动重载和提供调试信息\n",
      "```\n"
     ]
    }
   ],
   "source": [
    "import os\n",
    "from openai import AzureOpenAI\n",
    "from dotenv import load_dotenv\n",
    "load_dotenv()\n",
    "\n",
    "client = AzureOpenAI(\n",
    "  api_key=os.environ['AZURE_OPENAI_KEY'],  # this is also the default, it can be omitted\n",
    "  api_version = \"2023-05-15\"\n",
    "  )\n",
    "\n",
    "deployment=os.environ['AZURE_OPENAI_DEPLOYMENT']\n",
    "\n",
    "## Updated\n",
    "def get_completion(prompt):\n",
    "    messages = [{\"role\": \"user\", \"content\": prompt}]       \n",
    "    response = client.chat.completions.create(   \n",
    "        model=deployment,                                         \n",
    "        messages=messages,\n",
    "        temperature=0, # this is the degree of randomness of the model's output\n",
    "        max_tokens=1024\n",
    "    )\n",
    "    return response.choices[0].message.content\n",
    "\n",
    "text=f\"\"\"\n",
    "\n",
    "from flask import Flask, request\n",
    "\n",
    "app = Flask(__name__)\n",
    "\n",
    "@app.route('/')\n",
    "def hello():\n",
    "    name = request.args.get('name', 'World')\n",
    "    return f'Hello, name!'\n",
    "\n",
    "if __name__ == '__main__':\n",
    "    app.run()\n",
    "\"\"\"\n",
    "prompt=f\"\"\"\n",
    "\n",
    "帮我改进这段代码，让他更加高效，要求回答仅提供一种改进方案,代码：{text}\n",
    "\"\"\"\n",
    "response = get_completion(prompt)\n",
    "print(response)"
   ]
  }
 ],
 "metadata": {
  "kernelspec": {
   "display_name": "Python 3",
   "language": "python",
   "name": "python3"
  },
  "language_info": {
   "codemirror_mode": {
    "name": "ipython",
    "version": 3
   },
   "file_extension": ".py",
   "mimetype": "text/x-python",
   "name": "python",
   "nbconvert_exporter": "python",
   "pygments_lexer": "ipython3",
   "version": "3.11.7"
  }
 },
 "nbformat": 4,
 "nbformat_minor": 2
}
